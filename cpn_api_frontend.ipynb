{
 "cells": [
  {
   "cell_type": "markdown",
   "metadata": {},
   "source": [
    "### 1. Initialize Notebook"
   ]
  },
  {
   "cell_type": "code",
   "execution_count": 2,
   "metadata": {},
   "outputs": [
    {
     "data": {
      "text/plain": [
       "['id_example_call_existing',\n",
       " 'id_electricity-supply_grid-source_nuclear',\n",
       " 'id_material-cold-rolled-steel-coil',\n",
       " 'id_gas_upstream_kwh[Wh]',\n",
       " 'id_electric_kwh',\n",
       " 'id_coating[m2]',\n",
       " 'id_waste-type_scrap_metal-open',\n",
       " 'id_cardboard_material',\n",
       " 'id_steel_rivets[kg]',\n",
       " 'id_industrial-waste[kg]',\n",
       " 'id_gas_combustion_Wh',\n",
       " 'id_n2_gas',\n",
       " 'id_compressed-air[m3]']"
      ]
     },
     "execution_count": 2,
     "metadata": {},
     "output_type": "execute_result"
    }
   ],
   "source": [
    "import cpn_api.configurator as xml\n",
    "xml.get_list_of_request_ids()"
   ]
  },
  {
   "cell_type": "markdown",
   "metadata": {},
   "source": [
    "### 2.a) Define and save a requests to xml (by climatiq id)"
   ]
  },
  {
   "cell_type": "code",
   "execution_count": 3,
   "metadata": {},
   "outputs": [
    {
     "data": {
      "text/plain": [
       "['id_example_call_existing',\n",
       " 'id_electricity-supply_grid-source_nuclear',\n",
       " 'id_material-cold-rolled-steel-coil',\n",
       " 'id_gas_upstream_kwh[Wh]',\n",
       " 'id_electric_kwh',\n",
       " 'id_coating[m2]',\n",
       " 'id_waste-type_scrap_metal-open',\n",
       " 'id_cardboard_material',\n",
       " 'id_steel_rivets[kg]',\n",
       " 'id_industrial-waste[kg]',\n",
       " 'id_gas_combustion_Wh',\n",
       " 'id_test',\n",
       " 'id_n2_gas',\n",
       " 'id_compressed-air[m3]']"
      ]
     },
     "execution_count": 3,
     "metadata": {},
     "output_type": "execute_result"
    }
   ],
   "source": [
    "# 1. Select a name (request_id) But attention! Overwrites existing request_id.\n",
    "request_id = 'id_test'\n",
    "\n",
    "# 2. Specify by data id using https://www.climatiq.io/data\n",
    "emission_factor = {\n",
    "    \"id\": \"9713175d-5ffb-42f5-8fab-1034344ec7ac\"}\n",
    "parameters = {\n",
    "    \"weight\": 1, # irrelevant, gets overwritten to 1\n",
    "\t\"weight_unit\": \"kg\"}\n",
    "\n",
    "# 3. Specify the quantity name (value to be replaced from values of cpn-tools)\n",
    "quantity_name = 'weight'\n",
    "\n",
    "# Leave as is\n",
    "xml.add_request_climatiq(request_id, parameters, emission_factor, quantity_name)\n",
    "xml.get_list_of_request_ids()"
   ]
  },
  {
   "cell_type": "markdown",
   "metadata": {},
   "source": [
    "### 2.b) Or: Define and save a requests to xml (manual value)"
   ]
  },
  {
   "cell_type": "code",
   "execution_count": null,
   "metadata": {},
   "outputs": [],
   "source": [
    "# Fill out request_id and manual_factor\n",
    "request_id = 'id_n2_gas'\n",
    "manual_factor = (25.0 / (5.0*9000.0*0.001))\n",
    "\n",
    "# Leaf as is\n",
    "xml.add_default_entry(request_id, manual_factor)"
   ]
  },
  {
   "cell_type": "code",
   "execution_count": 15,
   "metadata": {},
   "outputs": [],
   "source": [
    "# Fill out request_id and manual_factor 1m3  0.342 MJ electricity -> 0.095 kwh,  0.684 CO2 per kwh\n",
    "request_id = 'id_compressed-air[m3]'\n",
    "manual_factor = (0.095*0.684)\n",
    "\n",
    "# Leaf as is\n",
    "xml.add_default_entry(request_id, manual_factor)"
   ]
  },
  {
   "cell_type": "markdown",
   "metadata": {},
   "source": [
    "### Start Backend\n",
    "Just before running the simulation, start the backend"
   ]
  },
  {
   "cell_type": "markdown",
   "metadata": {},
   "source": [
    "### Reset"
   ]
  },
  {
   "cell_type": "code",
   "execution_count": null,
   "metadata": {},
   "outputs": [],
   "source": [
    "# Delate All requests\n",
    "#xml.clear_requests()\n",
    "#xml.get_list_of_request_ids()"
   ]
  },
  {
   "cell_type": "markdown",
   "metadata": {},
   "source": [
    "### Test"
   ]
  },
  {
   "cell_type": "code",
   "execution_count": 14,
   "metadata": {},
   "outputs": [
    {
     "data": {
      "text/plain": [
       "('https://beta4.api.climatiq.io/estimate',\n",
       " {'emission_factor': {'id': 'b9c6f8d9-0a3d-4399-8dbb-806b1cff595e'},\n",
       "  'parameters': {'energy': 1.0, 'energy_unit': 'kWh'}},\n",
       " 'energy')"
      ]
     },
     "execution_count": 14,
     "metadata": {},
     "output_type": "execute_result"
    }
   ],
   "source": [
    "#xml.get_request_entry(\"id_electric_kwh\")"
   ]
  }
 ],
 "metadata": {
  "kernelspec": {
   "display_name": "Python 3",
   "language": "python",
   "name": "python3"
  },
  "language_info": {
   "codemirror_mode": {
    "name": "ipython",
    "version": 3
   },
   "file_extension": ".py",
   "mimetype": "text/x-python",
   "name": "python",
   "nbconvert_exporter": "python",
   "pygments_lexer": "ipython3",
   "version": "3.9.18"
  }
 },
 "nbformat": 4,
 "nbformat_minor": 2
}
