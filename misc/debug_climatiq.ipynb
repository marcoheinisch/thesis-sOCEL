{
 "cells": [
  {
   "cell_type": "code",
   "execution_count": 1,
   "metadata": {},
   "outputs": [],
   "source": [
    "import requests"
   ]
  },
  {
   "cell_type": "code",
   "execution_count": null,
   "metadata": {},
   "outputs": [],
   "source": [
    "# Change this to be your API key.\n",
    "MY_API_KEY=\"API_KEY_CLIMATIQ\"\n",
    "\n",
    "url = \"https://beta4.api.climatiq.io/search\"\n",
    "query=\"air\"\n",
    "data_version = \"^9\"\n",
    "\n",
    "query_params = {\n",
    "    # Free text query can be writen as the \"query\" parameter\n",
    "    \"query\": query,\n",
    "    \"data_version\": data_version,\n",
    "    # You can also filter on region, year, source and more\n",
    "    # \"AU\" is Australia\n",
    "}\n",
    "\n",
    "# You must always specify your AUTH token in the \"Authorization\" header like this.\n",
    "authorization_headers = {\"Authorization\": f\"Bearer: {MY_API_KEY}\"}\n",
    "\n",
    "# This performs the request and returns the result as JSON\n",
    "response = requests.get(url, params=query_params, headers=authorization_headers).json()\n",
    "\n",
    "# And here you can do whatever you want with the results\n",
    "display(response)"
   ]
  },
  {
   "cell_type": "code",
   "execution_count": null,
   "metadata": {},
   "outputs": [],
   "source": [
    "# Change this to be your API key\n",
    "\n",
    "url = \"https://beta4.api.climatiq.io/estimate\"\n",
    "\n",
    "# The activity ID for the emission factor. You can find this via the search endpoint listed above\n",
    "# or via the Data Explorer.\n",
    "activity_id = \"metals-type_steel_cold_rolled_coil\"\n",
    "\n",
    "# We have many regions with the same activity id, representing the power grid in different countries.\n",
    "# We'd like to get the power for Australia specifically, so we will need to specify a region.\n",
    "# We do this by specifying the UN location code for the region\n",
    "# You can also see the region for different emission factors in the data explorer.\n",
    "region = \"GLOBAL\"\n",
    "\n",
    "# We provide a data version on which we want to base our calculation. The recommended approach\n",
    "# is to use the latest version.\n",
    "data_version = \"^3\"\n",
    "\n",
    "# We must also specify how much electricity generation we would like to make the estimation for.\n",
    "# In this case we will do it for 100 kilowatt-hours.\n",
    "# Different emission factors have different requirement as to what units they support estimates for.\n",
    "# You can see the units supported by an emission factor in the data explorer\n",
    "# and find more documentation about units\n",
    "# in the API documentation.\n",
    "parameters = {\n",
    "    \"weight\": 1,\n",
    "    \"weight_unit\": \"t\"\n",
    "}\n",
    "\n",
    "json_body = {\n",
    "    \"emission_factor\": {\n",
    "        \"activity_id\": activity_id,\n",
    "        \"data_version\": data_version,\n",
    "        \"region\": region,\n",
    "    },\n",
    "    # Specify how much energy we're estimating for\n",
    "    \"parameters\": parameters\n",
    "}\n",
    "\n",
    "# You must always specify your AUTH token in the \"Authorization\" header like this.\n",
    "authorization_headers = {\"Authorization\": f\"Bearer: {MY_API_KEY}\"}\n",
    "\n",
    "# We send a POST request to the estimate endpoint with a json body\n",
    "# and the correct authorization headers.\n",
    "# This line will send the request and retrieve the body as JSON.\n",
    "response = requests.post(url, json=json_body, headers=authorization_headers).json()\n",
    "\n",
    "# You can now do anything you want with the response\n",
    "print(response)"
   ]
  },
  {
   "cell_type": "code",
   "execution_count": null,
   "metadata": {},
   "outputs": [],
   "source": [
    "js = {'co2e': 68.403, 'co2e_unit': 'kg', 'co2e_calculation_method': 'ar4', 'co2e_calculation_origin': 'source', 'emission_factor': {'name': 'Electricity supplied from grid - residual mix', 'activity_id': 'electricity-supply_grid-source_residual_mix', 'id': 'b9c6f8d9-0a3d-4399-8dbb-806b1cff595e', 'access_type': 'public', 'source': 'AIB', 'source_dataset': 'European Residual Mix', 'year': 2022, 'region': 'DE', 'category': 'Electricity', 'source_lca_activity': 'electricity_generation', 'data_quality_flags': ['partial_factor', 'notable_methodological_variance']}, 'constituent_gases': {'co2e_total': 68.403, 'co2e_other': None, 'co2': 68.403, 'ch4': None, 'n2o': None}, 'activity_data': {'activity_value': 100.0, 'activity_unit': 'kWh'}, 'audit_trail': 'selector'}"
   ]
  }
 ],
 "metadata": {
  "kernelspec": {
   "display_name": "Python 3",
   "language": "python",
   "name": "python3"
  },
  "language_info": {
   "codemirror_mode": {
    "name": "ipython",
    "version": 3
   },
   "file_extension": ".py",
   "mimetype": "text/x-python",
   "name": "python",
   "nbconvert_exporter": "python",
   "pygments_lexer": "ipython3",
   "version": "3.9.18"
  },
  "orig_nbformat": 4
 },
 "nbformat": 4,
 "nbformat_minor": 2
}
